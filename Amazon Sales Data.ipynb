{
 "cells": [
  {
   "cell_type": "markdown",
   "id": "f860b31f",
   "metadata": {},
   "source": [
    "# Project title : Analysing Amazon Sales Data "
   ]
  },
  {
   "cell_type": "markdown",
   "id": "9b0fabf7",
   "metadata": {},
   "source": [
    "1. To analyze the Sales-trend -> month-wise, year-wise, yearly_month-wise"
   ]
  },
  {
   "cell_type": "markdown",
   "id": "7a026797",
   "metadata": {},
   "source": [
    "2. Find key metrics and factors and show the meaningful relationships between attributes."
   ]
  },
  {
   "cell_type": "code",
   "execution_count": 3,
   "id": "6ec22b3a",
   "metadata": {},
   "outputs": [],
   "source": [
    "import pandas as pd\n",
    "import numpy as np\n",
    "import matplotlib.pyplot as plt\n",
    "import seaborn as sns"
   ]
  },
  {
   "cell_type": "code",
   "execution_count": 4,
   "id": "b84f1709",
   "metadata": {},
   "outputs": [],
   "source": [
    "df = pd.read_csv(\"Amazon Sales data.csv\")"
   ]
  },
  {
   "cell_type": "code",
   "execution_count": 5,
   "id": "1824556a",
   "metadata": {},
   "outputs": [
    {
     "data": {
      "text/html": [
       "<div>\n",
       "<style scoped>\n",
       "    .dataframe tbody tr th:only-of-type {\n",
       "        vertical-align: middle;\n",
       "    }\n",
       "\n",
       "    .dataframe tbody tr th {\n",
       "        vertical-align: top;\n",
       "    }\n",
       "\n",
       "    .dataframe thead th {\n",
       "        text-align: right;\n",
       "    }\n",
       "</style>\n",
       "<table border=\"1\" class=\"dataframe\">\n",
       "  <thead>\n",
       "    <tr style=\"text-align: right;\">\n",
       "      <th></th>\n",
       "      <th>Region</th>\n",
       "      <th>Country</th>\n",
       "      <th>Item Type</th>\n",
       "      <th>Sales Channel</th>\n",
       "      <th>Order Priority</th>\n",
       "      <th>Order Date</th>\n",
       "      <th>Order ID</th>\n",
       "      <th>Ship Date</th>\n",
       "      <th>Units Sold</th>\n",
       "      <th>Unit Price</th>\n",
       "      <th>Unit Cost</th>\n",
       "      <th>Total Revenue</th>\n",
       "      <th>Total Cost</th>\n",
       "      <th>Total Profit</th>\n",
       "    </tr>\n",
       "  </thead>\n",
       "  <tbody>\n",
       "    <tr>\n",
       "      <th>0</th>\n",
       "      <td>Australia and Oceania</td>\n",
       "      <td>Tuvalu</td>\n",
       "      <td>Baby Food</td>\n",
       "      <td>Offline</td>\n",
       "      <td>H</td>\n",
       "      <td>5/28/2010</td>\n",
       "      <td>669165933</td>\n",
       "      <td>6/27/2010</td>\n",
       "      <td>9925</td>\n",
       "      <td>255.28</td>\n",
       "      <td>159.42</td>\n",
       "      <td>2533654.00</td>\n",
       "      <td>1582243.50</td>\n",
       "      <td>951410.50</td>\n",
       "    </tr>\n",
       "    <tr>\n",
       "      <th>1</th>\n",
       "      <td>Central America and the Caribbean</td>\n",
       "      <td>Grenada</td>\n",
       "      <td>Cereal</td>\n",
       "      <td>Online</td>\n",
       "      <td>C</td>\n",
       "      <td>8/22/2012</td>\n",
       "      <td>963881480</td>\n",
       "      <td>9/15/2012</td>\n",
       "      <td>2804</td>\n",
       "      <td>205.70</td>\n",
       "      <td>117.11</td>\n",
       "      <td>576782.80</td>\n",
       "      <td>328376.44</td>\n",
       "      <td>248406.36</td>\n",
       "    </tr>\n",
       "    <tr>\n",
       "      <th>2</th>\n",
       "      <td>Europe</td>\n",
       "      <td>Russia</td>\n",
       "      <td>Office Supplies</td>\n",
       "      <td>Offline</td>\n",
       "      <td>L</td>\n",
       "      <td>5/2/2014</td>\n",
       "      <td>341417157</td>\n",
       "      <td>5/8/2014</td>\n",
       "      <td>1779</td>\n",
       "      <td>651.21</td>\n",
       "      <td>524.96</td>\n",
       "      <td>1158502.59</td>\n",
       "      <td>933903.84</td>\n",
       "      <td>224598.75</td>\n",
       "    </tr>\n",
       "    <tr>\n",
       "      <th>3</th>\n",
       "      <td>Sub-Saharan Africa</td>\n",
       "      <td>Sao Tome and Principe</td>\n",
       "      <td>Fruits</td>\n",
       "      <td>Online</td>\n",
       "      <td>C</td>\n",
       "      <td>6/20/2014</td>\n",
       "      <td>514321792</td>\n",
       "      <td>7/5/2014</td>\n",
       "      <td>8102</td>\n",
       "      <td>9.33</td>\n",
       "      <td>6.92</td>\n",
       "      <td>75591.66</td>\n",
       "      <td>56065.84</td>\n",
       "      <td>19525.82</td>\n",
       "    </tr>\n",
       "    <tr>\n",
       "      <th>4</th>\n",
       "      <td>Sub-Saharan Africa</td>\n",
       "      <td>Rwanda</td>\n",
       "      <td>Office Supplies</td>\n",
       "      <td>Offline</td>\n",
       "      <td>L</td>\n",
       "      <td>2/1/2013</td>\n",
       "      <td>115456712</td>\n",
       "      <td>2/6/2013</td>\n",
       "      <td>5062</td>\n",
       "      <td>651.21</td>\n",
       "      <td>524.96</td>\n",
       "      <td>3296425.02</td>\n",
       "      <td>2657347.52</td>\n",
       "      <td>639077.50</td>\n",
       "    </tr>\n",
       "  </tbody>\n",
       "</table>\n",
       "</div>"
      ],
      "text/plain": [
       "                              Region                Country        Item Type  \\\n",
       "0              Australia and Oceania                 Tuvalu        Baby Food   \n",
       "1  Central America and the Caribbean                Grenada           Cereal   \n",
       "2                             Europe                 Russia  Office Supplies   \n",
       "3                 Sub-Saharan Africa  Sao Tome and Principe           Fruits   \n",
       "4                 Sub-Saharan Africa                 Rwanda  Office Supplies   \n",
       "\n",
       "  Sales Channel Order Priority Order Date   Order ID  Ship Date  Units Sold  \\\n",
       "0       Offline              H  5/28/2010  669165933  6/27/2010        9925   \n",
       "1        Online              C  8/22/2012  963881480  9/15/2012        2804   \n",
       "2       Offline              L   5/2/2014  341417157   5/8/2014        1779   \n",
       "3        Online              C  6/20/2014  514321792   7/5/2014        8102   \n",
       "4       Offline              L   2/1/2013  115456712   2/6/2013        5062   \n",
       "\n",
       "   Unit Price  Unit Cost  Total Revenue  Total Cost  Total Profit  \n",
       "0      255.28     159.42     2533654.00  1582243.50     951410.50  \n",
       "1      205.70     117.11      576782.80   328376.44     248406.36  \n",
       "2      651.21     524.96     1158502.59   933903.84     224598.75  \n",
       "3        9.33       6.92       75591.66    56065.84      19525.82  \n",
       "4      651.21     524.96     3296425.02  2657347.52     639077.50  "
      ]
     },
     "execution_count": 5,
     "metadata": {},
     "output_type": "execute_result"
    }
   ],
   "source": [
    "df.head()"
   ]
  },
  {
   "cell_type": "code",
   "execution_count": 6,
   "id": "6fe40f3d",
   "metadata": {},
   "outputs": [
    {
     "data": {
      "text/html": [
       "<div>\n",
       "<style scoped>\n",
       "    .dataframe tbody tr th:only-of-type {\n",
       "        vertical-align: middle;\n",
       "    }\n",
       "\n",
       "    .dataframe tbody tr th {\n",
       "        vertical-align: top;\n",
       "    }\n",
       "\n",
       "    .dataframe thead th {\n",
       "        text-align: right;\n",
       "    }\n",
       "</style>\n",
       "<table border=\"1\" class=\"dataframe\">\n",
       "  <thead>\n",
       "    <tr style=\"text-align: right;\">\n",
       "      <th></th>\n",
       "      <th>Region</th>\n",
       "      <th>Country</th>\n",
       "      <th>Item Type</th>\n",
       "      <th>Sales Channel</th>\n",
       "      <th>Order Priority</th>\n",
       "      <th>Order Date</th>\n",
       "      <th>Order ID</th>\n",
       "      <th>Ship Date</th>\n",
       "      <th>Units Sold</th>\n",
       "      <th>Unit Price</th>\n",
       "      <th>Unit Cost</th>\n",
       "      <th>Total Revenue</th>\n",
       "      <th>Total Cost</th>\n",
       "      <th>Total Profit</th>\n",
       "    </tr>\n",
       "  </thead>\n",
       "  <tbody>\n",
       "    <tr>\n",
       "      <th>95</th>\n",
       "      <td>Sub-Saharan Africa</td>\n",
       "      <td>Mali</td>\n",
       "      <td>Clothes</td>\n",
       "      <td>Online</td>\n",
       "      <td>M</td>\n",
       "      <td>7/26/2011</td>\n",
       "      <td>512878119</td>\n",
       "      <td>9/3/2011</td>\n",
       "      <td>888</td>\n",
       "      <td>109.28</td>\n",
       "      <td>35.84</td>\n",
       "      <td>97040.64</td>\n",
       "      <td>31825.92</td>\n",
       "      <td>65214.72</td>\n",
       "    </tr>\n",
       "    <tr>\n",
       "      <th>96</th>\n",
       "      <td>Asia</td>\n",
       "      <td>Malaysia</td>\n",
       "      <td>Fruits</td>\n",
       "      <td>Offline</td>\n",
       "      <td>L</td>\n",
       "      <td>11/11/2011</td>\n",
       "      <td>810711038</td>\n",
       "      <td>12/28/2011</td>\n",
       "      <td>6267</td>\n",
       "      <td>9.33</td>\n",
       "      <td>6.92</td>\n",
       "      <td>58471.11</td>\n",
       "      <td>43367.64</td>\n",
       "      <td>15103.47</td>\n",
       "    </tr>\n",
       "    <tr>\n",
       "      <th>97</th>\n",
       "      <td>Sub-Saharan Africa</td>\n",
       "      <td>Sierra Leone</td>\n",
       "      <td>Vegetables</td>\n",
       "      <td>Offline</td>\n",
       "      <td>C</td>\n",
       "      <td>6/1/2016</td>\n",
       "      <td>728815257</td>\n",
       "      <td>6/29/2016</td>\n",
       "      <td>1485</td>\n",
       "      <td>154.06</td>\n",
       "      <td>90.93</td>\n",
       "      <td>228779.10</td>\n",
       "      <td>135031.05</td>\n",
       "      <td>93748.05</td>\n",
       "    </tr>\n",
       "    <tr>\n",
       "      <th>98</th>\n",
       "      <td>North America</td>\n",
       "      <td>Mexico</td>\n",
       "      <td>Personal Care</td>\n",
       "      <td>Offline</td>\n",
       "      <td>M</td>\n",
       "      <td>7/30/2015</td>\n",
       "      <td>559427106</td>\n",
       "      <td>8/8/2015</td>\n",
       "      <td>5767</td>\n",
       "      <td>81.73</td>\n",
       "      <td>56.67</td>\n",
       "      <td>471336.91</td>\n",
       "      <td>326815.89</td>\n",
       "      <td>144521.02</td>\n",
       "    </tr>\n",
       "    <tr>\n",
       "      <th>99</th>\n",
       "      <td>Sub-Saharan Africa</td>\n",
       "      <td>Mozambique</td>\n",
       "      <td>Household</td>\n",
       "      <td>Offline</td>\n",
       "      <td>L</td>\n",
       "      <td>2/10/2012</td>\n",
       "      <td>665095412</td>\n",
       "      <td>2/15/2012</td>\n",
       "      <td>5367</td>\n",
       "      <td>668.27</td>\n",
       "      <td>502.54</td>\n",
       "      <td>3586605.09</td>\n",
       "      <td>2697132.18</td>\n",
       "      <td>889472.91</td>\n",
       "    </tr>\n",
       "  </tbody>\n",
       "</table>\n",
       "</div>"
      ],
      "text/plain": [
       "                Region       Country      Item Type Sales Channel  \\\n",
       "95  Sub-Saharan Africa          Mali        Clothes        Online   \n",
       "96                Asia      Malaysia         Fruits       Offline   \n",
       "97  Sub-Saharan Africa  Sierra Leone     Vegetables       Offline   \n",
       "98       North America        Mexico  Personal Care       Offline   \n",
       "99  Sub-Saharan Africa    Mozambique      Household       Offline   \n",
       "\n",
       "   Order Priority  Order Date   Order ID   Ship Date  Units Sold  Unit Price  \\\n",
       "95              M   7/26/2011  512878119    9/3/2011         888      109.28   \n",
       "96              L  11/11/2011  810711038  12/28/2011        6267        9.33   \n",
       "97              C    6/1/2016  728815257   6/29/2016        1485      154.06   \n",
       "98              M   7/30/2015  559427106    8/8/2015        5767       81.73   \n",
       "99              L   2/10/2012  665095412   2/15/2012        5367      668.27   \n",
       "\n",
       "    Unit Cost  Total Revenue  Total Cost  Total Profit  \n",
       "95      35.84       97040.64    31825.92      65214.72  \n",
       "96       6.92       58471.11    43367.64      15103.47  \n",
       "97      90.93      228779.10   135031.05      93748.05  \n",
       "98      56.67      471336.91   326815.89     144521.02  \n",
       "99     502.54     3586605.09  2697132.18     889472.91  "
      ]
     },
     "execution_count": 6,
     "metadata": {},
     "output_type": "execute_result"
    }
   ],
   "source": [
    "df.tail()"
   ]
  },
  {
   "cell_type": "code",
   "execution_count": 7,
   "id": "e0c61dad",
   "metadata": {},
   "outputs": [
    {
     "name": "stdout",
     "output_type": "stream",
     "text": [
      "<class 'pandas.core.frame.DataFrame'>\n",
      "RangeIndex: 100 entries, 0 to 99\n",
      "Data columns (total 14 columns):\n",
      " #   Column          Non-Null Count  Dtype  \n",
      "---  ------          --------------  -----  \n",
      " 0   Region          100 non-null    object \n",
      " 1   Country         100 non-null    object \n",
      " 2   Item Type       100 non-null    object \n",
      " 3   Sales Channel   100 non-null    object \n",
      " 4   Order Priority  100 non-null    object \n",
      " 5   Order Date      100 non-null    object \n",
      " 6   Order ID        100 non-null    int64  \n",
      " 7   Ship Date       100 non-null    object \n",
      " 8   Units Sold      100 non-null    int64  \n",
      " 9   Unit Price      100 non-null    float64\n",
      " 10  Unit Cost       100 non-null    float64\n",
      " 11  Total Revenue   100 non-null    float64\n",
      " 12  Total Cost      100 non-null    float64\n",
      " 13  Total Profit    100 non-null    float64\n",
      "dtypes: float64(5), int64(2), object(7)\n",
      "memory usage: 11.1+ KB\n"
     ]
    }
   ],
   "source": [
    "df.info()"
   ]
  },
  {
   "cell_type": "code",
   "execution_count": 9,
   "id": "e6ce14b1",
   "metadata": {},
   "outputs": [
    {
     "data": {
      "text/plain": [
       "(100, 14)"
      ]
     },
     "execution_count": 9,
     "metadata": {},
     "output_type": "execute_result"
    }
   ],
   "source": [
    "df.shape"
   ]
  },
  {
   "cell_type": "code",
   "execution_count": 10,
   "id": "0233c5ff",
   "metadata": {},
   "outputs": [
    {
     "data": {
      "text/plain": [
       "Region            0\n",
       "Country           0\n",
       "Item Type         0\n",
       "Sales Channel     0\n",
       "Order Priority    0\n",
       "Order Date        0\n",
       "Order ID          0\n",
       "Ship Date         0\n",
       "Units Sold        0\n",
       "Unit Price        0\n",
       "Unit Cost         0\n",
       "Total Revenue     0\n",
       "Total Cost        0\n",
       "Total Profit      0\n",
       "dtype: int64"
      ]
     },
     "execution_count": 10,
     "metadata": {},
     "output_type": "execute_result"
    }
   ],
   "source": [
    "df.isnull().sum()"
   ]
  },
  {
   "cell_type": "code",
   "execution_count": 11,
   "id": "26217d1d",
   "metadata": {},
   "outputs": [
    {
     "data": {
      "text/plain": [
       "0"
      ]
     },
     "execution_count": 11,
     "metadata": {},
     "output_type": "execute_result"
    }
   ],
   "source": [
    "df.duplicated().sum()"
   ]
  },
  {
   "cell_type": "markdown",
   "id": "89228d86",
   "metadata": {},
   "source": [
    "# TO PERFORM MONTH WISE, YEAR WISE, YEARLY_MONTH WISE SALES TREND"
   ]
  },
  {
   "cell_type": "code",
   "execution_count": 13,
   "id": "6c4944cd",
   "metadata": {},
   "outputs": [
    {
     "data": {
      "text/plain": [
       "0    2010-05-28\n",
       "1    2012-08-22\n",
       "2    2014-05-02\n",
       "3    2014-06-20\n",
       "4    2013-02-01\n",
       "        ...    \n",
       "95   2011-07-26\n",
       "96   2011-11-11\n",
       "97   2016-06-01\n",
       "98   2015-07-30\n",
       "99   2012-02-10\n",
       "Name: Order Date, Length: 100, dtype: datetime64[ns]"
      ]
     },
     "execution_count": 13,
     "metadata": {},
     "output_type": "execute_result"
    }
   ],
   "source": [
    "# Extract date \n",
    "df[\"Order Date\"]= pd.to_datetime(df[\"Order Date\"])\n",
    "df[\"Order Date\"]"
   ]
  },
  {
   "cell_type": "code",
   "execution_count": 15,
   "id": "caf623ea",
   "metadata": {},
   "outputs": [],
   "source": [
    "# To extract year and month\n",
    "df['Year'] = df['Order Date'].dt.year\n",
    "df['Month'] = df['Order Date'].dt.month"
   ]
  },
  {
   "cell_type": "code",
   "execution_count": 16,
   "id": "a0606bd8",
   "metadata": {},
   "outputs": [
    {
     "data": {
      "text/plain": [
       "0     2010\n",
       "1     2012\n",
       "2     2014\n",
       "3     2014\n",
       "4     2013\n",
       "      ... \n",
       "95    2011\n",
       "96    2011\n",
       "97    2016\n",
       "98    2015\n",
       "99    2012\n",
       "Name: Year, Length: 100, dtype: int32"
      ]
     },
     "execution_count": 16,
     "metadata": {},
     "output_type": "execute_result"
    }
   ],
   "source": [
    "df[\"Year\"]"
   ]
  },
  {
   "cell_type": "code",
   "execution_count": 17,
   "id": "b9b0bb5f",
   "metadata": {},
   "outputs": [
    {
     "data": {
      "text/plain": [
       "0      5\n",
       "1      8\n",
       "2      5\n",
       "3      6\n",
       "4      2\n",
       "      ..\n",
       "95     7\n",
       "96    11\n",
       "97     6\n",
       "98     7\n",
       "99     2\n",
       "Name: Month, Length: 100, dtype: int32"
      ]
     },
     "execution_count": 17,
     "metadata": {},
     "output_type": "execute_result"
    }
   ],
   "source": [
    "df[\"Month\"]"
   ]
  },
  {
   "cell_type": "code",
   "execution_count": 19,
   "id": "015833fd",
   "metadata": {},
   "outputs": [],
   "source": [
    "df[\"Total Sales\"] = df[\"Units Sold\"]* df[\"Unit Price\"]"
   ]
  },
  {
   "cell_type": "code",
   "execution_count": 21,
   "id": "935f26a0",
   "metadata": {},
   "outputs": [
    {
     "data": {
      "text/plain": [
       "137348768.31"
      ]
     },
     "execution_count": 21,
     "metadata": {},
     "output_type": "execute_result"
    }
   ],
   "source": [
    "df[\"Total Sales\"].sum()"
   ]
  },
  {
   "cell_type": "code",
   "execution_count": 22,
   "id": "27c44b30",
   "metadata": {},
   "outputs": [
    {
     "data": {
      "text/html": [
       "<div>\n",
       "<style scoped>\n",
       "    .dataframe tbody tr th:only-of-type {\n",
       "        vertical-align: middle;\n",
       "    }\n",
       "\n",
       "    .dataframe tbody tr th {\n",
       "        vertical-align: top;\n",
       "    }\n",
       "\n",
       "    .dataframe thead th {\n",
       "        text-align: right;\n",
       "    }\n",
       "</style>\n",
       "<table border=\"1\" class=\"dataframe\">\n",
       "  <thead>\n",
       "    <tr style=\"text-align: right;\">\n",
       "      <th></th>\n",
       "      <th>Region</th>\n",
       "      <th>Country</th>\n",
       "      <th>Item Type</th>\n",
       "      <th>Sales Channel</th>\n",
       "      <th>Order Priority</th>\n",
       "      <th>Order Date</th>\n",
       "      <th>Order ID</th>\n",
       "      <th>Ship Date</th>\n",
       "      <th>Units Sold</th>\n",
       "      <th>Unit Price</th>\n",
       "      <th>Unit Cost</th>\n",
       "      <th>Total Revenue</th>\n",
       "      <th>Total Cost</th>\n",
       "      <th>Total Profit</th>\n",
       "      <th>Year</th>\n",
       "      <th>Month</th>\n",
       "      <th>Total Sales</th>\n",
       "    </tr>\n",
       "  </thead>\n",
       "  <tbody>\n",
       "    <tr>\n",
       "      <th>0</th>\n",
       "      <td>Australia and Oceania</td>\n",
       "      <td>Tuvalu</td>\n",
       "      <td>Baby Food</td>\n",
       "      <td>Offline</td>\n",
       "      <td>H</td>\n",
       "      <td>2010-05-28</td>\n",
       "      <td>669165933</td>\n",
       "      <td>6/27/2010</td>\n",
       "      <td>9925</td>\n",
       "      <td>255.28</td>\n",
       "      <td>159.42</td>\n",
       "      <td>2533654.00</td>\n",
       "      <td>1582243.50</td>\n",
       "      <td>951410.50</td>\n",
       "      <td>2010</td>\n",
       "      <td>5</td>\n",
       "      <td>2533654.00</td>\n",
       "    </tr>\n",
       "    <tr>\n",
       "      <th>1</th>\n",
       "      <td>Central America and the Caribbean</td>\n",
       "      <td>Grenada</td>\n",
       "      <td>Cereal</td>\n",
       "      <td>Online</td>\n",
       "      <td>C</td>\n",
       "      <td>2012-08-22</td>\n",
       "      <td>963881480</td>\n",
       "      <td>9/15/2012</td>\n",
       "      <td>2804</td>\n",
       "      <td>205.70</td>\n",
       "      <td>117.11</td>\n",
       "      <td>576782.80</td>\n",
       "      <td>328376.44</td>\n",
       "      <td>248406.36</td>\n",
       "      <td>2012</td>\n",
       "      <td>8</td>\n",
       "      <td>576782.80</td>\n",
       "    </tr>\n",
       "    <tr>\n",
       "      <th>2</th>\n",
       "      <td>Europe</td>\n",
       "      <td>Russia</td>\n",
       "      <td>Office Supplies</td>\n",
       "      <td>Offline</td>\n",
       "      <td>L</td>\n",
       "      <td>2014-05-02</td>\n",
       "      <td>341417157</td>\n",
       "      <td>5/8/2014</td>\n",
       "      <td>1779</td>\n",
       "      <td>651.21</td>\n",
       "      <td>524.96</td>\n",
       "      <td>1158502.59</td>\n",
       "      <td>933903.84</td>\n",
       "      <td>224598.75</td>\n",
       "      <td>2014</td>\n",
       "      <td>5</td>\n",
       "      <td>1158502.59</td>\n",
       "    </tr>\n",
       "    <tr>\n",
       "      <th>3</th>\n",
       "      <td>Sub-Saharan Africa</td>\n",
       "      <td>Sao Tome and Principe</td>\n",
       "      <td>Fruits</td>\n",
       "      <td>Online</td>\n",
       "      <td>C</td>\n",
       "      <td>2014-06-20</td>\n",
       "      <td>514321792</td>\n",
       "      <td>7/5/2014</td>\n",
       "      <td>8102</td>\n",
       "      <td>9.33</td>\n",
       "      <td>6.92</td>\n",
       "      <td>75591.66</td>\n",
       "      <td>56065.84</td>\n",
       "      <td>19525.82</td>\n",
       "      <td>2014</td>\n",
       "      <td>6</td>\n",
       "      <td>75591.66</td>\n",
       "    </tr>\n",
       "    <tr>\n",
       "      <th>4</th>\n",
       "      <td>Sub-Saharan Africa</td>\n",
       "      <td>Rwanda</td>\n",
       "      <td>Office Supplies</td>\n",
       "      <td>Offline</td>\n",
       "      <td>L</td>\n",
       "      <td>2013-02-01</td>\n",
       "      <td>115456712</td>\n",
       "      <td>2/6/2013</td>\n",
       "      <td>5062</td>\n",
       "      <td>651.21</td>\n",
       "      <td>524.96</td>\n",
       "      <td>3296425.02</td>\n",
       "      <td>2657347.52</td>\n",
       "      <td>639077.50</td>\n",
       "      <td>2013</td>\n",
       "      <td>2</td>\n",
       "      <td>3296425.02</td>\n",
       "    </tr>\n",
       "  </tbody>\n",
       "</table>\n",
       "</div>"
      ],
      "text/plain": [
       "                              Region                Country        Item Type  \\\n",
       "0              Australia and Oceania                 Tuvalu        Baby Food   \n",
       "1  Central America and the Caribbean                Grenada           Cereal   \n",
       "2                             Europe                 Russia  Office Supplies   \n",
       "3                 Sub-Saharan Africa  Sao Tome and Principe           Fruits   \n",
       "4                 Sub-Saharan Africa                 Rwanda  Office Supplies   \n",
       "\n",
       "  Sales Channel Order Priority Order Date   Order ID  Ship Date  Units Sold  \\\n",
       "0       Offline              H 2010-05-28  669165933  6/27/2010        9925   \n",
       "1        Online              C 2012-08-22  963881480  9/15/2012        2804   \n",
       "2       Offline              L 2014-05-02  341417157   5/8/2014        1779   \n",
       "3        Online              C 2014-06-20  514321792   7/5/2014        8102   \n",
       "4       Offline              L 2013-02-01  115456712   2/6/2013        5062   \n",
       "\n",
       "   Unit Price  Unit Cost  Total Revenue  Total Cost  Total Profit  Year  \\\n",
       "0      255.28     159.42     2533654.00  1582243.50     951410.50  2010   \n",
       "1      205.70     117.11      576782.80   328376.44     248406.36  2012   \n",
       "2      651.21     524.96     1158502.59   933903.84     224598.75  2014   \n",
       "3        9.33       6.92       75591.66    56065.84      19525.82  2014   \n",
       "4      651.21     524.96     3296425.02  2657347.52     639077.50  2013   \n",
       "\n",
       "   Month  Total Sales  \n",
       "0      5   2533654.00  \n",
       "1      8    576782.80  \n",
       "2      5   1158502.59  \n",
       "3      6     75591.66  \n",
       "4      2   3296425.02  "
      ]
     },
     "execution_count": 22,
     "metadata": {},
     "output_type": "execute_result"
    }
   ],
   "source": [
    "df.head()"
   ]
  },
  {
   "cell_type": "markdown",
   "id": "58ec7bda",
   "metadata": {},
   "source": [
    "# Analyze sales trend"
   ]
  },
  {
   "cell_type": "code",
   "execution_count": 24,
   "id": "e5a04c0d",
   "metadata": {},
   "outputs": [],
   "source": [
    "Sales_Trends = df[['Order Date', 'Year', 'Month', 'Total Sales']]\n"
   ]
  },
  {
   "cell_type": "code",
   "execution_count": 26,
   "id": "ff56b90a",
   "metadata": {},
   "outputs": [
    {
     "data": {
      "text/html": [
       "<div>\n",
       "<style scoped>\n",
       "    .dataframe tbody tr th:only-of-type {\n",
       "        vertical-align: middle;\n",
       "    }\n",
       "\n",
       "    .dataframe tbody tr th {\n",
       "        vertical-align: top;\n",
       "    }\n",
       "\n",
       "    .dataframe thead th {\n",
       "        text-align: right;\n",
       "    }\n",
       "</style>\n",
       "<table border=\"1\" class=\"dataframe\">\n",
       "  <thead>\n",
       "    <tr style=\"text-align: right;\">\n",
       "      <th></th>\n",
       "      <th>Order Date</th>\n",
       "      <th>Year</th>\n",
       "      <th>Month</th>\n",
       "      <th>Total Sales</th>\n",
       "    </tr>\n",
       "  </thead>\n",
       "  <tbody>\n",
       "    <tr>\n",
       "      <th>0</th>\n",
       "      <td>2010-05-28</td>\n",
       "      <td>2010</td>\n",
       "      <td>5</td>\n",
       "      <td>2533654.00</td>\n",
       "    </tr>\n",
       "    <tr>\n",
       "      <th>1</th>\n",
       "      <td>2012-08-22</td>\n",
       "      <td>2012</td>\n",
       "      <td>8</td>\n",
       "      <td>576782.80</td>\n",
       "    </tr>\n",
       "    <tr>\n",
       "      <th>2</th>\n",
       "      <td>2014-05-02</td>\n",
       "      <td>2014</td>\n",
       "      <td>5</td>\n",
       "      <td>1158502.59</td>\n",
       "    </tr>\n",
       "    <tr>\n",
       "      <th>3</th>\n",
       "      <td>2014-06-20</td>\n",
       "      <td>2014</td>\n",
       "      <td>6</td>\n",
       "      <td>75591.66</td>\n",
       "    </tr>\n",
       "    <tr>\n",
       "      <th>4</th>\n",
       "      <td>2013-02-01</td>\n",
       "      <td>2013</td>\n",
       "      <td>2</td>\n",
       "      <td>3296425.02</td>\n",
       "    </tr>\n",
       "    <tr>\n",
       "      <th>5</th>\n",
       "      <td>2015-02-04</td>\n",
       "      <td>2015</td>\n",
       "      <td>2</td>\n",
       "      <td>759202.72</td>\n",
       "    </tr>\n",
       "    <tr>\n",
       "      <th>6</th>\n",
       "      <td>2011-04-23</td>\n",
       "      <td>2011</td>\n",
       "      <td>4</td>\n",
       "      <td>2798046.49</td>\n",
       "    </tr>\n",
       "    <tr>\n",
       "      <th>7</th>\n",
       "      <td>2012-07-17</td>\n",
       "      <td>2012</td>\n",
       "      <td>7</td>\n",
       "      <td>1245112.92</td>\n",
       "    </tr>\n",
       "    <tr>\n",
       "      <th>8</th>\n",
       "      <td>2015-07-14</td>\n",
       "      <td>2015</td>\n",
       "      <td>7</td>\n",
       "      <td>496101.10</td>\n",
       "    </tr>\n",
       "    <tr>\n",
       "      <th>9</th>\n",
       "      <td>2014-04-18</td>\n",
       "      <td>2014</td>\n",
       "      <td>4</td>\n",
       "      <td>1356180.10</td>\n",
       "    </tr>\n",
       "  </tbody>\n",
       "</table>\n",
       "</div>"
      ],
      "text/plain": [
       "  Order Date  Year  Month  Total Sales\n",
       "0 2010-05-28  2010      5   2533654.00\n",
       "1 2012-08-22  2012      8    576782.80\n",
       "2 2014-05-02  2014      5   1158502.59\n",
       "3 2014-06-20  2014      6     75591.66\n",
       "4 2013-02-01  2013      2   3296425.02\n",
       "5 2015-02-04  2015      2    759202.72\n",
       "6 2011-04-23  2011      4   2798046.49\n",
       "7 2012-07-17  2012      7   1245112.92\n",
       "8 2015-07-14  2015      7    496101.10\n",
       "9 2014-04-18  2014      4   1356180.10"
      ]
     },
     "execution_count": 26,
     "metadata": {},
     "output_type": "execute_result"
    }
   ],
   "source": [
    "Sales_Trends.head(10)"
   ]
  },
  {
   "cell_type": "markdown",
   "id": "60fffc54",
   "metadata": {},
   "source": [
    "# Month wise sales trend"
   ]
  },
  {
   "cell_type": "code",
   "execution_count": 27,
   "id": "929766a2",
   "metadata": {},
   "outputs": [
    {
     "data": {
      "text/plain": [
       "Month\n",
       "1     10482467.12\n",
       "2     24740517.77\n",
       "3      2274823.87\n",
       "4     16187186.33\n",
       "5     13215739.99\n",
       "6      5230325.77\n",
       "7     15669518.50\n",
       "8      1128164.91\n",
       "9      5314762.56\n",
       "10    15287576.61\n",
       "11    20568222.76\n",
       "12     7249462.12\n",
       "Name: Total Sales, dtype: float64"
      ]
     },
     "execution_count": 27,
     "metadata": {},
     "output_type": "execute_result"
    }
   ],
   "source": [
    "monthwise_sales = Sales_Trends.groupby(['Month'])['Total Sales'].sum()\n",
    "monthwise_sales"
   ]
  },
  {
   "cell_type": "code",
   "execution_count": 33,
   "id": "2fb935a2",
   "metadata": {},
   "outputs": [
    {
     "data": {
      "image/png": "[encoded data removed]",
      "text/plain": [
       "<Figure size 1000x600 with 1 Axes>"
      ]
     },
     "metadata": {},
     "output_type": "display_data"
    }
   ],
   "source": [
    "plt.figure(figsize = (10,6))\n",
    "monthwise_sales.plot(kind = 'bar', color = 'orange', edgecolor = 'black')\n",
    "plt.title(\"Month Wise Sales Trends\")\n",
    "plt.xlabel('Months')\n",
    "plt.ylabel('Sales')\n",
    "plt.show()"
   ]
  },
  {
   "cell_type": "markdown",
   "id": "eafe0cdb",
   "metadata": {},
   "source": [
    "# Year wise sales trend"
   ]
  },
  {
   "cell_type": "code",
   "execution_count": 34,
   "id": "9a8b12a8",
   "metadata": {},
   "outputs": [
    {
     "data": {
      "text/plain": [
       "Year\n",
       "2010    19186024.92\n",
       "2011    11129166.07\n",
       "2012    31898644.52\n",
       "2013    20330448.66\n",
       "2014    16630214.43\n",
       "2015    12427982.86\n",
       "2016    12372867.22\n",
       "2017    13373419.63\n",
       "Name: Total Sales, dtype: float64"
      ]
     },
     "execution_count": 34,
     "metadata": {},
     "output_type": "execute_result"
    }
   ],
   "source": [
    "yearwise_sales = Sales_Trends.groupby(['Year'])['Total Sales'].sum()\n",
    "yearwise_sales"
   ]
  },
  {
   "cell_type": "code",
   "execution_count": 36,
   "id": "a101277b",
   "metadata": {},
   "outputs": [
    {
     "data": {
      "image/png": "[encoded data removed]",
      "text/plain": [
       "<Figure size 1000x600 with 1 Axes>"
      ]
     },
     "metadata": {},
     "output_type": "display_data"
    }
   ],
   "source": [
    "plt.figure(figsize = (10,6))\n",
    "yearwise_sales.plot(kind = 'bar', color = 'skyblue', edgecolor = 'black')\n",
    "plt.title(\"Year Wise Sales Trends\")\n",
    "plt.xlabel('Years')\n",
    "plt.ylabel('Sales')\n",
    "plt.show()"
   ]
  },
  {
   "cell_type": "markdown",
   "id": "a00087ec",
   "metadata": {},
   "source": [
    "# Yearly_Month_wise Sales"
   ]
  },
  {
   "cell_type": "code",
   "execution_count": 37,
   "id": "721e0766",
   "metadata": {},
   "outputs": [
    {
     "data": {
      "text/plain": [
       "Year  Month\n",
       "2010  2        3410661.12\n",
       "      5        2587973.26\n",
       "      6        1082418.40\n",
       "      10       6064933.75\n",
       "      11       3458252.00\n",
       "      12       2581786.39\n",
       "2011  1        1042225.35\n",
       "      2         387002.20\n",
       "      4        2798046.49\n",
       "      5         272410.45\n",
       "      6          19103.44\n",
       "      7          97040.64\n",
       "      9         574951.92\n",
       "      11       5938385.58\n",
       "2012  1        1012884.00\n",
       "      2        6707849.42\n",
       "      3         994765.42\n",
       "      4        4556012.38\n",
       "      5        3782781.82\n",
       "      6        2132075.27\n",
       "      7        4445093.92\n",
       "      8         576782.80\n",
       "      9        4648152.72\n",
       "      10       3042246.77\n",
       "2013  2        3296425.02\n",
       "      3         835759.10\n",
       "      4        3262562.10\n",
       "      6        1352867.40\n",
       "      7        8545511.20\n",
       "      8          89623.98\n",
       "      9          71253.21\n",
       "      10       2702770.40\n",
       "      12        173676.25\n",
       "2014  2        1819660.25\n",
       "      4        4510578.10\n",
       "      5        3060338.59\n",
       "      6          75591.66\n",
       "      7         688641.85\n",
       "      8         455479.04\n",
       "      9          20404.71\n",
       "      10       1352370.65\n",
       "      11       4647149.58\n",
       "2015  1        5513227.50\n",
       "      2        2003911.12\n",
       "      4        1059987.26\n",
       "      7        1292409.45\n",
       "      8           6279.09\n",
       "      10       1904138.04\n",
       "      11        648030.40\n",
       "2016  3         197883.40\n",
       "      5         414371.10\n",
       "      6         568269.60\n",
       "      7         600821.44\n",
       "      10        221117.00\n",
       "      11       5876405.20\n",
       "      12       4493999.48\n",
       "2017  1        2914130.27\n",
       "      2        7115008.64\n",
       "      3         246415.95\n",
       "      5        3097864.77\n",
       "Name: Total Sales, dtype: float64"
      ]
     },
     "execution_count": 37,
     "metadata": {},
     "output_type": "execute_result"
    }
   ],
   "source": [
    "yearly_month_wise = Sales_Trends.groupby(['Year', 'Month'])['Total Sales'].sum()\n",
    "yearly_month_wise"
   ]
  },
  {
   "cell_type": "code",
   "execution_count": 38,
   "id": "3c55b91d",
   "metadata": {},
   "outputs": [],
   "source": [
    "sales_2010 = yearly_month_wise[yearly_month_wise.index.get_level_values('Year') == 2010]\n",
    "sales_2011 = yearly_month_wise[yearly_month_wise.index.get_level_values('Year') == 2011]\n",
    "sales_2012 = yearly_month_wise[yearly_month_wise.index.get_level_values('Year') == 2012]\n",
    "sales_2013 = yearly_month_wise[yearly_month_wise.index.get_level_values('Year') == 2013]\n",
    "sales_2014 = yearly_month_wise[yearly_month_wise.index.get_level_values('Year') == 2014]\n",
    "sales_2015 = yearly_month_wise[yearly_month_wise.index.get_level_values('Year') == 2015]\n",
    "sales_2016 = yearly_month_wise[yearly_month_wise.index.get_level_values('Year') == 2016]\n",
    "sales_2017 = yearly_month_wise[yearly_month_wise.index.get_level_values('Year') == 2017]"
   ]
  },
  {
   "cell_type": "markdown",
   "id": "771fdca5",
   "metadata": {},
   "source": [
    "# plt.figure(figsize=(20, 10))\n",
    "\n",
    "plt.subplot(2,4,1)\n",
    "plt.bar(sales_2010.index.get_level_values('Month'), sales_2010, color = 'red')\n",
    "plt.title('Monthly Sales for the Year 2010')\n",
    "plt.xlabel('Month')\n",
    "plt.ylabel('Sales')\n",
    "\n",
    "plt.subplot(2,4,2)\n",
    "plt.bar(sales_2011.index.get_level_values('Month'), sales_2011, color = 'blue')\n",
    "plt.title('Monthly Sales for the Year 2011')\n",
    "plt.xlabel('Month')\n",
    "plt.ylabel('Sales')\n",
    "\n",
    "plt.subplot(2,4,3)\n",
    "plt.bar(sales_2012.index.get_level_values('Month'), sales_2012, color = 'pink')\n",
    "plt.title('Monthly Sales for the Year 2012')\n",
    "plt.xlabel('Month')\n",
    "plt.ylabel('Sales')\n",
    "\n",
    "plt.subplot(2,4,4)\n",
    "plt.bar(sales_2013.index.get_level_values('Month'), sales_2013, color = 'yellow')\n",
    "plt.title('Monthly Sales for the Year 2013')\n",
    "plt.xlabel('Month')\n",
    "plt.ylabel('Sales')\n",
    "\n",
    "plt.subplot(2,4,5)\n",
    "plt.bar(sales_2014.index.get_level_values('Month'), sales_2014, color = 'skyblue')\n",
    "plt.title('Monthly Sales for the Year 2014')\n",
    "plt.xlabel('Month')\n",
    "plt.ylabel('Sales')\n",
    "\n",
    "plt.subplot(2,4,6)\n",
    "plt.bar(sales_2015.index.get_level_values('Month'), sales_2015, color = 'violet')\n",
    "plt.title('Monthly Sales for the Year 2015')\n",
    "plt.xlabel('Month')\n",
    "plt.ylabel('Sales')\n",
    "\n",
    "plt.subplot(2,4,7)\n",
    "plt.bar(sales_2016.index.get_level_values('Month'), sales_2016, color = 'purple')\n",
    "plt.title('Monthly Sales for the Year 2016')\n",
    "plt.xlabel('Month')\n",
    "plt.ylabel('Sales')\n",
    "\n",
    "plt.subplot(2,4,8)\n",
    "plt.bar(sales_2017.index.get_level_values('Month'), sales_2017, color = 'grey')\n",
    "plt.title('Monthly Sales for the Year 2017')\n",
    "plt.xlabel('Month')\n",
    "plt.ylabel('Sales')\n",
    "\n",
    "\n",
    "plt.tight_layout(pad=3.0)\n",
    "plt.show()"
   ]
  },
  {
   "cell_type": "markdown",
   "id": "bd39d7f5",
   "metadata": {},
   "source": [
    "# Observations:\n"
   ]
  },
  {
   "cell_type": "markdown",
   "id": "4222f3f8",
   "metadata": {},
   "source": [
    "Each bar shows monthly sales per year"
   ]
  },
  {
   "cell_type": "markdown",
   "id": "a09dae03",
   "metadata": {},
   "source": [
    "# Visualise the relationship between attributes"
   ]
  },
  {
   "cell_type": "markdown",
   "id": "fd1850e0",
   "metadata": {},
   "source": [
    "Create following plots"
   ]
  },
  {
   "cell_type": "markdown",
   "id": "22e2adf5",
   "metadata": {},
   "source": [
    "1. A scatter plot of Units sold and Total Revenue, Unit price and Total revenue, Unit price and total profit\n",
    "2. A count plot of Item Type and channels"
   ]
  },
  {
   "cell_type": "code",
   "execution_count": 46,
   "id": "016dcbc0",
   "metadata": {},
   "outputs": [
    {
     "data": {
      "image/png": "[encoded data removed]",
      "text/plain": [
       "<Figure size 800x600 with 1 Axes>"
      ]
     },
     "metadata": {},
     "output_type": "display_data"
    }
   ],
   "source": [
    "# Relationship between Units sold and total revenue \n",
    "plt.figure(figsize=(8, 6))\n",
    "plt.scatter(df['Units Sold'], df['Total Revenue'], color='purple',alpha = 0.8)\n",
    "plt.xlabel('Units Sold')\n",
    "plt.ylabel('Total Revenue')\n",
    "plt.title('Relationship between Units Sold and Total Revenue')\n",
    "plt.grid(True)\n",
    "plt.tight_layout()\n",
    "plt.show()"
   ]
  },
  {
   "cell_type": "markdown",
   "id": "39641306",
   "metadata": {},
   "source": [
    "# Observations "
   ]
  },
  {
   "cell_type": "markdown",
   "id": "0463d3f1",
   "metadata": {},
   "source": [
    "1. We observe that there is a relationship between Units Sold and Total Revenue \n",
    "2. As Unit Sales increases, Revenue also increases"
   ]
  },
  {
   "cell_type": "code",
   "execution_count": 47,
   "id": "2a82b566",
   "metadata": {},
   "outputs": [
    {
     "data": {
      "image/png": "[encoded data removed]",
      "text/plain": [
       "<Figure size 1000x600 with 1 Axes>"
      ]
     },
     "metadata": {},
     "output_type": "display_data"
    }
   ],
   "source": [
    "# Relationship between Unit Price and Total Revenue\n",
    "\n",
    "plt.figure(figsize = (10,6))\n",
    "plt.scatter(df['Unit Price'], df['Total Revenue'], color = 'red', alpha = 0.7)\n",
    "plt.title(\"Relationship between Unit price and Total Revenue\")\n",
    "plt.xlabel('Unit Price')\n",
    "plt.ylabel('Total Revenue')\n",
    "plt.grid(True)\n",
    "plt.tight_layout()\n",
    "plt.show()"
   ]
  },
  {
   "cell_type": "markdown",
   "id": "32a5b2e7",
   "metadata": {},
   "source": [
    "# Observations"
   ]
  },
  {
   "cell_type": "markdown",
   "id": "aff53199",
   "metadata": {},
   "source": [
    "1. We observe that there is a relationship between unit price and total revenue\n",
    "2. As per the observation higher unit prices lead to higher total revenue."
   ]
  },
  {
   "cell_type": "code",
   "execution_count": 48,
   "id": "054e8b60",
   "metadata": {},
   "outputs": [
    {
     "data": {
      "image/png": "[encoded data removed]",
      "text/plain": [
       "<Figure size 1100x600 with 1 Axes>"
      ]
     },
     "metadata": {},
     "output_type": "display_data"
    }
   ],
   "source": [
    "# Relationship between Unit Price and Total Profit\n",
    "\n",
    "plt.figure(figsize = (11,6))\n",
    "plt.scatter(df['Unit Price'], df['Total Profit'], color = 'green', alpha = 0.7)\n",
    "plt.title(\"Relationship between Unit Price and Total Profit \")\n",
    "plt.xlabel('Unit Price')\n",
    "plt.ylabel('Total Profit')\n",
    "plt.grid(True)\n",
    "plt.tight_layout()\n",
    "plt.show()"
   ]
  },
  {
   "cell_type": "markdown",
   "id": "a4d07545",
   "metadata": {},
   "source": [
    "# Observations"
   ]
  },
  {
   "cell_type": "markdown",
   "id": "19d2a16f",
   "metadata": {},
   "source": [
    "1. We observe that there is relationship between Unit Price and total profit\n",
    "2. As per the observation unit price increases, the profit also increase\n",
    "3. The profit is maximun between 400 and 500 unit price"
   ]
  },
  {
   "cell_type": "code",
   "execution_count": 53,
   "id": "4cae3a0e",
   "metadata": {},
   "outputs": [
    {
     "data": {
      "image/png": "[encoded data removed]",
      "text/plain": [
       "<Figure size 1500x600 with 1 Axes>"
      ]
     },
     "metadata": {},
     "output_type": "display_data"
    }
   ],
   "source": [
    "# Count plot of the \"Item Type\" feature\n",
    "\n",
    "plt.figure(figsize=(15, 6))\n",
    "colors = sns.color_palette('husl', len(df['Item Type'].unique()))\n",
    "sns.countplot(data=df, x='Item Type', edgecolor='linen', alpha=0.7, palette=colors)\n",
    "plt.title(\"Count Plot of Item Type\")\n",
    "plt.xlabel('Item Type')\n",
    "plt.ylabel('Count')\n",
    "plt.show()"
   ]
  },
  {
   "cell_type": "markdown",
   "id": "e1ff9ee7",
   "metadata": {},
   "source": [
    "# Observations"
   ]
  },
  {
   "cell_type": "markdown",
   "id": "2dfc2576",
   "metadata": {},
   "source": [
    "We see that most customers choose clothes or cosmetics, having maximum purchases"
   ]
  },
  {
   "cell_type": "code",
   "execution_count": 54,
   "id": "85d3f577",
   "metadata": {},
   "outputs": [
    {
     "data": {
      "image/png": "[encoded data removed]",
      "text/plain": [
       "<Figure size 1500x600 with 1 Axes>"
      ]
     },
     "metadata": {},
     "output_type": "display_data"
    }
   ],
   "source": [
    "# Count plot of channel\n",
    "\n",
    "plt.figure(figsize = (15,6))\n",
    "colors = sns.color_palette('husl', len(df['Item Type'].unique()))\n",
    "\n",
    "sns.countplot(data = df ,x = 'Sales Channel', edgecolor = 'linen', alpha = 0.7, palette = colors)\n",
    "\n",
    "plt.title(\"Count Plot of Sales Channel\")\n",
    "plt.xlabel('Sales Channel')\n",
    "plt.ylabel('Count')\n",
    "plt.show()"
   ]
  },
  {
   "cell_type": "markdown",
   "id": "9dd2ab78",
   "metadata": {},
   "source": [
    "# Observations"
   ]
  },
  {
   "cell_type": "markdown",
   "id": "0bb0c961",
   "metadata": {},
   "source": [
    "We have seen that online and offline both are equally distributed"
   ]
  },
  {
   "cell_type": "markdown",
   "id": "5698072d",
   "metadata": {},
   "source": [
    "# Conclusion"
   ]
  },
  {
   "cell_type": "code",
   "execution_count": null,
   "id": "99d9d449",
   "metadata": {},
   "outputs": [],
   "source": []
  }
 ],
 "metadata": {
  "kernelspec": {
   "display_name": "Python 3 (ipykernel)",
   "language": "python",
   "name": "python3"
  },
  "language_info": {
   "codemirror_mode": {
    "name": "ipython",
    "version": 3
   },
   "file_extension": ".py",
   "mimetype": "text/x-python",
   "name": "python",
   "nbconvert_exporter": "python",
   "pygments_lexer": "ipython3",
   "version": "3.11.5"
  }
 },
 "nbformat": 4,
 "nbformat_minor": 5
}
